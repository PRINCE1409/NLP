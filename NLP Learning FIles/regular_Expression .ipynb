{
  "nbformat": 4,
  "nbformat_minor": 0,
  "metadata": {
    "colab": {
      "name": "regular-Expression.ipynb",
      "provenance": []
    },
    "kernelspec": {
      "name": "python3",
      "display_name": "Python 3"
    }
  },
  "cells": [
    {
      "cell_type": "code",
      "metadata": {
        "id": "mTnxnzf5WvvO"
      },
      "source": [
        "text = \"my phone number is 6394152045\""
      ],
      "execution_count": null,
      "outputs": []
    },
    {
      "cell_type": "code",
      "metadata": {
        "id": "hrraExF4W-U0",
        "outputId": "7e971ce2-4601-4424-b4ea-99eb3290a729",
        "colab": {
          "base_uri": "https://localhost:8080/",
          "height": 35
        }
      },
      "source": [
        "text"
      ],
      "execution_count": null,
      "outputs": [
        {
          "output_type": "execute_result",
          "data": {
            "application/vnd.google.colaboratory.intrinsic+json": {
              "type": "string"
            },
            "text/plain": [
              "'my phone number is 6394152045'"
            ]
          },
          "metadata": {
            "tags": []
          },
          "execution_count": 3
        }
      ]
    },
    {
      "cell_type": "code",
      "metadata": {
        "id": "lEe17aMnW_YL",
        "outputId": "d29924eb-1f9e-4704-fa72-e72d9edc16ad",
        "colab": {
          "base_uri": "https://localhost:8080/"
        }
      },
      "source": [
        "'phone' in text"
      ],
      "execution_count": null,
      "outputs": [
        {
          "output_type": "execute_result",
          "data": {
            "text/plain": [
              "True"
            ]
          },
          "metadata": {
            "tags": []
          },
          "execution_count": 4
        }
      ]
    },
    {
      "cell_type": "code",
      "metadata": {
        "id": "z40Gu5QaXCzG",
        "outputId": "1990c6a5-a22f-4542-dfd7-db62def50d39",
        "colab": {
          "base_uri": "https://localhost:8080/"
        }
      },
      "source": [
        "'6394152045' in text"
      ],
      "execution_count": null,
      "outputs": [
        {
          "output_type": "execute_result",
          "data": {
            "text/plain": [
              "True"
            ]
          },
          "metadata": {
            "tags": []
          },
          "execution_count": 5
        }
      ]
    },
    {
      "cell_type": "code",
      "metadata": {
        "id": "DEuBcdkUXFnj"
      },
      "source": [
        "import re"
      ],
      "execution_count": 42,
      "outputs": []
    },
    {
      "cell_type": "code",
      "metadata": {
        "id": "pJ7EnCcqXHbk"
      },
      "source": [
        "pattern = 'phone'"
      ],
      "execution_count": null,
      "outputs": []
    },
    {
      "cell_type": "code",
      "metadata": {
        "id": "s5ZfnA-XXM-n",
        "outputId": "749f44c4-42ec-40e4-f88d-cc0e688192b9",
        "colab": {
          "base_uri": "https://localhost:8080/"
        }
      },
      "source": [
        "re.search(pattern,text)"
      ],
      "execution_count": null,
      "outputs": [
        {
          "output_type": "execute_result",
          "data": {
            "text/plain": [
              "<_sre.SRE_Match object; span=(3, 8), match='phone'>"
            ]
          },
          "metadata": {
            "tags": []
          },
          "execution_count": 9
        }
      ]
    },
    {
      "cell_type": "code",
      "metadata": {
        "id": "ovpZknCpXVyy"
      },
      "source": [
        "match = re.search(pattern,text)"
      ],
      "execution_count": null,
      "outputs": []
    },
    {
      "cell_type": "code",
      "metadata": {
        "id": "NPR6YR7LXdSS",
        "outputId": "c2de727f-cfeb-4f21-83e2-8b2b8917605b",
        "colab": {
          "base_uri": "https://localhost:8080/"
        }
      },
      "source": [
        "match.span()"
      ],
      "execution_count": null,
      "outputs": [
        {
          "output_type": "execute_result",
          "data": {
            "text/plain": [
              "(3, 8)"
            ]
          },
          "metadata": {
            "tags": []
          },
          "execution_count": 11
        }
      ]
    },
    {
      "cell_type": "code",
      "metadata": {
        "id": "OcQ6I10MXhlw",
        "outputId": "d42ff9bf-36f4-40f4-a42c-773c5862fe57",
        "colab": {
          "base_uri": "https://localhost:8080/"
        }
      },
      "source": [
        "match.start()"
      ],
      "execution_count": null,
      "outputs": [
        {
          "output_type": "execute_result",
          "data": {
            "text/plain": [
              "3"
            ]
          },
          "metadata": {
            "tags": []
          },
          "execution_count": 12
        }
      ]
    },
    {
      "cell_type": "code",
      "metadata": {
        "id": "8Neu_EnTXpNj",
        "outputId": "7e4d648b-34bc-4a8e-d06c-1ba88b1a6625",
        "colab": {
          "base_uri": "https://localhost:8080/"
        }
      },
      "source": [
        "match.end()"
      ],
      "execution_count": null,
      "outputs": [
        {
          "output_type": "execute_result",
          "data": {
            "text/plain": [
              "8"
            ]
          },
          "metadata": {
            "tags": []
          },
          "execution_count": 13
        }
      ]
    },
    {
      "cell_type": "code",
      "metadata": {
        "id": "0KgQyPsTXrE7"
      },
      "source": [
        "text = 'my phone is a brand new phone'\n",
        "match = re.search(pattern,text)"
      ],
      "execution_count": null,
      "outputs": []
    },
    {
      "cell_type": "code",
      "metadata": {
        "id": "YLoiOjDcX41d",
        "outputId": "47a7ac4d-915c-4e36-d59f-8164805cef8a",
        "colab": {
          "base_uri": "https://localhost:8080/"
        }
      },
      "source": [
        "match"
      ],
      "execution_count": null,
      "outputs": [
        {
          "output_type": "execute_result",
          "data": {
            "text/plain": [
              "<_sre.SRE_Match object; span=(3, 8), match='phone'>"
            ]
          },
          "metadata": {
            "tags": []
          },
          "execution_count": 16
        }
      ]
    },
    {
      "cell_type": "code",
      "metadata": {
        "id": "BFbjp2U4X7lw",
        "outputId": "e74b728d-aa44-4fed-ce22-9ce0f0c03475",
        "colab": {
          "base_uri": "https://localhost:8080/"
        }
      },
      "source": [
        "match.span()"
      ],
      "execution_count": null,
      "outputs": [
        {
          "output_type": "execute_result",
          "data": {
            "text/plain": [
              "(3, 8)"
            ]
          },
          "metadata": {
            "tags": []
          },
          "execution_count": 17
        }
      ]
    },
    {
      "cell_type": "code",
      "metadata": {
        "id": "Qmn5tTLRX-0X"
      },
      "source": [
        "all_match = re.findall(pattern,text)"
      ],
      "execution_count": null,
      "outputs": []
    },
    {
      "cell_type": "code",
      "metadata": {
        "id": "zwwJIiBiYKkn",
        "outputId": "bc8e7063-a2f7-4f55-8fde-4c70ca08453e",
        "colab": {
          "base_uri": "https://localhost:8080/"
        }
      },
      "source": [
        "len(all_match)"
      ],
      "execution_count": null,
      "outputs": [
        {
          "output_type": "execute_result",
          "data": {
            "text/plain": [
              "2"
            ]
          },
          "metadata": {
            "tags": []
          },
          "execution_count": 22
        }
      ]
    },
    {
      "cell_type": "code",
      "metadata": {
        "id": "IdWnQW69YUPO",
        "outputId": "911fd820-4d26-4805-9401-c9a5ea214c98",
        "colab": {
          "base_uri": "https://localhost:8080/"
        }
      },
      "source": [
        "for match in re.findall(pattern,text):\n",
        "  print(match)"
      ],
      "execution_count": null,
      "outputs": [
        {
          "output_type": "stream",
          "text": [
            "phone\n",
            "phone\n"
          ],
          "name": "stdout"
        }
      ]
    },
    {
      "cell_type": "code",
      "metadata": {
        "id": "wjKRWwhAYhE0"
      },
      "source": [
        "text = \"my phone nummber is 639-415-2045\""
      ],
      "execution_count": null,
      "outputs": []
    },
    {
      "cell_type": "code",
      "metadata": {
        "id": "Mf5cyZeGY2O2"
      },
      "source": [
        "pattern = r'\\d\\d\\d-\\d\\d\\d-\\d\\d\\d\\d'"
      ],
      "execution_count": null,
      "outputs": []
    },
    {
      "cell_type": "code",
      "metadata": {
        "id": "f3XtXbBpZEqp"
      },
      "source": [
        "ph = re.search(pattern,text)"
      ],
      "execution_count": null,
      "outputs": []
    },
    {
      "cell_type": "code",
      "metadata": {
        "id": "dfN22YQgZJZJ",
        "outputId": "3c164859-2dd2-42e7-eaac-86a1ad7fadf1",
        "colab": {
          "base_uri": "https://localhost:8080/"
        }
      },
      "source": [
        "ph"
      ],
      "execution_count": null,
      "outputs": [
        {
          "output_type": "execute_result",
          "data": {
            "text/plain": [
              "<_sre.SRE_Match object; span=(20, 32), match='639-415-2045'>"
            ]
          },
          "metadata": {
            "tags": []
          },
          "execution_count": 29
        }
      ]
    },
    {
      "cell_type": "code",
      "metadata": {
        "id": "-fUFM_r4ZKmF",
        "outputId": "5524d7c1-161f-41e2-ad4d-24d46796a1bc",
        "colab": {
          "base_uri": "https://localhost:8080/",
          "height": 35
        }
      },
      "source": [
        "ph.group()"
      ],
      "execution_count": null,
      "outputs": [
        {
          "output_type": "execute_result",
          "data": {
            "application/vnd.google.colaboratory.intrinsic+json": {
              "type": "string"
            },
            "text/plain": [
              "'639-415-2045'"
            ]
          },
          "metadata": {
            "tags": []
          },
          "execution_count": 30
        }
      ]
    },
    {
      "cell_type": "code",
      "metadata": {
        "id": "vjyV4oF5ZSGK"
      },
      "source": [
        "text = \"my game id is 6566-8888-989898\""
      ],
      "execution_count": null,
      "outputs": []
    },
    {
      "cell_type": "code",
      "metadata": {
        "id": "jd0vhGFiZlm-"
      },
      "source": [
        "pattern = r'\\d{4}-\\d{4}-\\d{6}'"
      ],
      "execution_count": null,
      "outputs": []
    },
    {
      "cell_type": "code",
      "metadata": {
        "id": "ztkkkOauZrbN"
      },
      "source": [
        "ph = re.search(pattern,text)"
      ],
      "execution_count": null,
      "outputs": []
    },
    {
      "cell_type": "code",
      "metadata": {
        "id": "Q2yDoWVkZtG3",
        "outputId": "c40caac1-0a90-4846-c337-7b7269a410fa",
        "colab": {
          "base_uri": "https://localhost:8080/"
        }
      },
      "source": [
        "ph"
      ],
      "execution_count": null,
      "outputs": [
        {
          "output_type": "execute_result",
          "data": {
            "text/plain": [
              "<_sre.SRE_Match object; span=(14, 30), match='6566-8888-989898'>"
            ]
          },
          "metadata": {
            "tags": []
          },
          "execution_count": 34
        }
      ]
    },
    {
      "cell_type": "code",
      "metadata": {
        "id": "EST_U8xKZuKr",
        "outputId": "75bbe673-27c4-4ffa-c1da-f7f6c50fb3b7",
        "colab": {
          "base_uri": "https://localhost:8080/",
          "height": 35
        }
      },
      "source": [
        "ph.group()"
      ],
      "execution_count": null,
      "outputs": [
        {
          "output_type": "execute_result",
          "data": {
            "application/vnd.google.colaboratory.intrinsic+json": {
              "type": "string"
            },
            "text/plain": [
              "'6566-8888-989898'"
            ]
          },
          "metadata": {
            "tags": []
          },
          "execution_count": 35
        }
      ]
    },
    {
      "cell_type": "markdown",
      "metadata": {
        "id": "xwisjoBVaiQ7"
      },
      "source": [
        "Practice"
      ]
    },
    {
      "cell_type": "code",
      "metadata": {
        "id": "Vi1haLPVZvbz"
      },
      "source": [
        "text = \"the number is 6394-1520-4586-0115-1438\""
      ],
      "execution_count": null,
      "outputs": []
    },
    {
      "cell_type": "code",
      "metadata": {
        "id": "LsRGM7XIatwu"
      },
      "source": [
        "pattern = r\"\\d{4}-\\d{4}-\\d{4}-\\d{4}\""
      ],
      "execution_count": null,
      "outputs": []
    },
    {
      "cell_type": "code",
      "metadata": {
        "id": "lDunKufha3SG"
      },
      "source": [
        "finding = re.search(pattern,text)"
      ],
      "execution_count": null,
      "outputs": []
    },
    {
      "cell_type": "code",
      "metadata": {
        "id": "SaXo63dDa6Ka",
        "outputId": "fa215a35-f248-4dd8-e52b-b9018deaed08",
        "colab": {
          "base_uri": "https://localhost:8080/",
          "height": 35
        }
      },
      "source": [
        "finding.group()"
      ],
      "execution_count": null,
      "outputs": [
        {
          "output_type": "execute_result",
          "data": {
            "application/vnd.google.colaboratory.intrinsic+json": {
              "type": "string"
            },
            "text/plain": [
              "'6394-1520-4586-0115'"
            ]
          },
          "metadata": {
            "tags": []
          },
          "execution_count": 41
        }
      ]
    },
    {
      "cell_type": "markdown",
      "metadata": {
        "id": "4aENIWfrdwco"
      },
      "source": [
        "Another Examples"
      ]
    },
    {
      "cell_type": "code",
      "metadata": {
        "id": "8zW7-BcNdk7v"
      },
      "source": [
        "text = \"7 is my fav number\""
      ],
      "execution_count": 43,
      "outputs": []
    },
    {
      "cell_type": "code",
      "metadata": {
        "id": "AdBs91xwdpSu",
        "outputId": "b0850914-7824-4f17-a1ac-1b13b7c6357b",
        "colab": {
          "base_uri": "https://localhost:8080/"
        }
      },
      "source": [
        "re.findall(r\"^\\d\",text)"
      ],
      "execution_count": 44,
      "outputs": [
        {
          "output_type": "execute_result",
          "data": {
            "text/plain": [
              "['7']"
            ]
          },
          "metadata": {
            "tags": []
          },
          "execution_count": 44
        }
      ]
    },
    {
      "cell_type": "code",
      "metadata": {
        "id": "mKkH-ra0dpgO"
      },
      "source": [
        "text = \"my fav number is 63\""
      ],
      "execution_count": 47,
      "outputs": []
    },
    {
      "cell_type": "code",
      "metadata": {
        "id": "Co35e8V8dpps",
        "outputId": "322192ae-2c53-497b-b5f3-64bf3cf8ab0f",
        "colab": {
          "base_uri": "https://localhost:8080/"
        }
      },
      "source": [
        "re.findall(r\"\\d$\",text)"
      ],
      "execution_count": 48,
      "outputs": [
        {
          "output_type": "execute_result",
          "data": {
            "text/plain": [
              "['3']"
            ]
          },
          "metadata": {
            "tags": []
          },
          "execution_count": 48
        }
      ]
    },
    {
      "cell_type": "code",
      "metadata": {
        "id": "zTa1kEMZdps0"
      },
      "source": [
        "text = \"Virat jersey number is 8 and dhoni jersey number is 7\""
      ],
      "execution_count": 49,
      "outputs": []
    },
    {
      "cell_type": "code",
      "metadata": {
        "id": "mWRnWspKdpyH",
        "outputId": "ea217bd5-8f56-46c8-b471-c7c6b3290dcd",
        "colab": {
          "base_uri": "https://localhost:8080/"
        }
      },
      "source": [
        "re.findall(r\"[^\\d]+\",text)\n",
        "# this will  remove all the numbers from the text"
      ],
      "execution_count": 53,
      "outputs": [
        {
          "output_type": "execute_result",
          "data": {
            "text/plain": [
              "['Virat jersey number is ', ' and dhoni jersey number is ']"
            ]
          },
          "metadata": {
            "tags": []
          },
          "execution_count": 53
        }
      ]
    },
    {
      "cell_type": "code",
      "metadata": {
        "id": "pWT--Wypdpwh"
      },
      "source": [
        "text = \" who am i ? wohhooo!! hello , how are you?\""
      ],
      "execution_count": 54,
      "outputs": []
    },
    {
      "cell_type": "code",
      "metadata": {
        "id": "EUqr_5v9enqd"
      },
      "source": [
        "my_list = re.findall(r'[^?!,]',text)\n",
        "# this will remove ? ! , from the text"
      ],
      "execution_count": 57,
      "outputs": []
    },
    {
      "cell_type": "code",
      "metadata": {
        "id": "iQh3PeNsenxX",
        "outputId": "cec76721-49de-442e-a9ce-9ef8ccd31018",
        "colab": {
          "base_uri": "https://localhost:8080/",
          "height": 35
        }
      },
      "source": [
        "''.join(my_list)"
      ],
      "execution_count": 58,
      "outputs": [
        {
          "output_type": "execute_result",
          "data": {
            "application/vnd.google.colaboratory.intrinsic+json": {
              "type": "string"
            },
            "text/plain": [
              "' who am i  wohhooo hello  how are you'"
            ]
          },
          "metadata": {
            "tags": []
          },
          "execution_count": 58
        }
      ]
    },
    {
      "cell_type": "markdown",
      "metadata": {
        "id": "VhvJQQN6bctk"
      },
      "source": [
        "Complete"
      ]
    },
    {
      "cell_type": "code",
      "metadata": {
        "id": "CyYK6tuDa-fS"
      },
      "source": [
        ""
      ],
      "execution_count": null,
      "outputs": []
    }
  ]
}
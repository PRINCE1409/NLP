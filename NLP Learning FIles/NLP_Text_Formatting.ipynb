{
  "nbformat": 4,
  "nbformat_minor": 0,
  "metadata": {
    "colab": {
      "name": "NLP_Text_Formatting.ipynb",
      "provenance": []
    },
    "kernelspec": {
      "name": "python3",
      "display_name": "Python 3"
    },
    "accelerator": "GPU"
  },
  "cells": [
    {
      "cell_type": "markdown",
      "metadata": {
        "id": "ZuqwVhzu97c2"
      },
      "source": [
        "**Text_Formatting**\n",
        "\n",
        "\n"
      ]
    },
    {
      "cell_type": "code",
      "metadata": {
        "id": "Ay5YRYnG2hkk",
        "outputId": "1c12f8c7-b135-4eaf-f22d-0f1784c21517",
        "colab": {
          "base_uri": "https://localhost:8080/"
        }
      },
      "source": [
        "print(\"Natural Lnnguage Processing\")"
      ],
      "execution_count": 3,
      "outputs": [
        {
          "output_type": "stream",
          "text": [
            "Natural Lnnguage Processing\n"
          ],
          "name": "stdout"
        }
      ]
    },
    {
      "cell_type": "code",
      "metadata": {
        "id": "xOCYgh_O3Gy4",
        "outputId": "a5cb4d1d-2dc7-4335-e077-6ff1be4f3012",
        "colab": {
          "base_uri": "https://localhost:8080/"
        }
      },
      "source": [
        "name = \"Gajanand Singh\"\n",
        "print(f\"My Name is {name}\")\n",
        "#or"
      ],
      "execution_count": 5,
      "outputs": [
        {
          "output_type": "stream",
          "text": [
            "My Name is Gajanand Singh\n"
          ],
          "name": "stdout"
        }
      ]
    },
    {
      "cell_type": "code",
      "metadata": {
        "id": "-c_uBoRC5uCF",
        "outputId": "732e68a4-fd75-478a-af36-48a54975243b",
        "colab": {
          "base_uri": "https://localhost:8080/"
        }
      },
      "source": [
        "name = \"Gajanand Singh\"\n",
        "print(\"My Name is {0}\".format(name))"
      ],
      "execution_count": 7,
      "outputs": [
        {
          "output_type": "stream",
          "text": [
            "My Name is Gajanand Singh\n"
          ],
          "name": "stdout"
        }
      ]
    },
    {
      "cell_type": "code",
      "metadata": {
        "id": "wXHT3faG58F2"
      },
      "source": [
        "spam = ['a','b','c','d']"
      ],
      "execution_count": 8,
      "outputs": []
    },
    {
      "cell_type": "code",
      "metadata": {
        "id": "Hpoc1xF56ME4",
        "outputId": "2fd4cec7-00dd-4001-cebc-dacd9de69567",
        "colab": {
          "base_uri": "https://localhost:8080/"
        }
      },
      "source": [
        "print(f\"value of spam {spam[0]}\")\n",
        "print(f\"value of spam {spam[1]}\")\n",
        "print(f\"value of spam {spam[2]}\")\n",
        "print(f\"value of spam {spam[3]}\")"
      ],
      "execution_count": 10,
      "outputs": [
        {
          "output_type": "stream",
          "text": [
            "value of spam a\n",
            "value of spam b\n",
            "value of spam c\n",
            "value of spam d\n"
          ],
          "name": "stdout"
        }
      ]
    },
    {
      "cell_type": "code",
      "metadata": {
        "id": "AMx4ajUF6Qfi"
      },
      "source": [
        "dict = {'var':20 , \"var1\":45}"
      ],
      "execution_count": 11,
      "outputs": []
    },
    {
      "cell_type": "code",
      "metadata": {
        "id": "0ZuR4EJq6dOb",
        "outputId": "cdaa0165-3417-4216-b098-1f67fb6284c2",
        "colab": {
          "base_uri": "https://localhost:8080/"
        }
      },
      "source": [
        "print(f\"value of dict {dict['var']}\")\n",
        "print(f\"value of dict {dict['var1']}\")"
      ],
      "execution_count": 15,
      "outputs": [
        {
          "output_type": "stream",
          "text": [
            "value of dict 20\n",
            "value of dict 45\n"
          ],
          "name": "stdout"
        }
      ]
    },
    {
      "cell_type": "code",
      "metadata": {
        "id": "PpMt5be_6lKP"
      },
      "source": [
        "college = [('Name','Branch','Year'),\n",
        "           ('Gajanand','CSE','3rd'),\n",
        "           ('Prince','CSE','3rd')]"
      ],
      "execution_count": 16,
      "outputs": []
    },
    {
      "cell_type": "code",
      "metadata": {
        "id": "L3U9eqps7Tz6",
        "outputId": "55d06170-e595-4706-e4f5-55d6889ec084",
        "colab": {
          "base_uri": "https://localhost:8080/"
        }
      },
      "source": [
        "for data in college:\n",
        "  print(data)"
      ],
      "execution_count": 17,
      "outputs": [
        {
          "output_type": "stream",
          "text": [
            "('Name', 'Branch', 'Year')\n",
            "('Gajanand', 'CSE', '3rd')\n",
            "('Prince', 'CSE', '3rd')\n"
          ],
          "name": "stdout"
        }
      ]
    },
    {
      "cell_type": "code",
      "metadata": {
        "id": "0IEuKhcT7a-k",
        "outputId": "7eeb4e82-01ef-48b1-d0fb-994fc320f8d0",
        "colab": {
          "base_uri": "https://localhost:8080/"
        }
      },
      "source": [
        "for data in college:\n",
        "  print(f\"Student Name is {data[0]}\")"
      ],
      "execution_count": 18,
      "outputs": [
        {
          "output_type": "stream",
          "text": [
            "Student Name is Name\n",
            "Student Name is Gajanand\n",
            "Student Name is Prince\n"
          ],
          "name": "stdout"
        }
      ]
    },
    {
      "cell_type": "code",
      "metadata": {
        "id": "o_pKF2aZ7j3T",
        "outputId": "4ef7ad59-e69d-4b1c-c203-425071a30887",
        "colab": {
          "base_uri": "https://localhost:8080/"
        }
      },
      "source": [
        "for name,branch,year in college:\n",
        "  print(f\"Name: {name}\")"
      ],
      "execution_count": 19,
      "outputs": [
        {
          "output_type": "stream",
          "text": [
            "Name: Name\n",
            "Name: Gajanand\n",
            "Name: Prince\n"
          ],
          "name": "stdout"
        }
      ]
    },
    {
      "cell_type": "code",
      "metadata": {
        "id": "noQb7K6e71eJ",
        "outputId": "3f9d23fe-46aa-4e19-fceb-3d6c755a39f9",
        "colab": {
          "base_uri": "https://localhost:8080/"
        }
      },
      "source": [
        "for name,branch,year in college:\n",
        "  print(f\"Branch: {branch}\")"
      ],
      "execution_count": 22,
      "outputs": [
        {
          "output_type": "stream",
          "text": [
            "Branch: Branch\n",
            "Branch: CSE\n",
            "Branch: CSE\n"
          ],
          "name": "stdout"
        }
      ]
    },
    {
      "cell_type": "code",
      "metadata": {
        "id": "S3JXHlvK7401",
        "outputId": "800448a8-0d64-48a1-afc7-4932a357871d",
        "colab": {
          "base_uri": "https://localhost:8080/"
        }
      },
      "source": [
        "for name,branch,year in college:\n",
        "  print(f\"Year: {year}\")"
      ],
      "execution_count": 23,
      "outputs": [
        {
          "output_type": "stream",
          "text": [
            "Year: Year\n",
            "Year: 3rd\n",
            "Year: 3rd\n"
          ],
          "name": "stdout"
        }
      ]
    },
    {
      "cell_type": "code",
      "metadata": {
        "id": "8izhl0Kp76Rv",
        "outputId": "fc09c538-e98e-47c4-bf18-00ad7f7b42e2",
        "colab": {
          "base_uri": "https://localhost:8080/"
        }
      },
      "source": [
        "for name,branch,year in college:\n",
        "  print(f\"{name:{10}} {branch:{10}} {year:{10}}\")\n",
        "#here { :{10}} is used for giving proper space "
      ],
      "execution_count": 29,
      "outputs": [
        {
          "output_type": "stream",
          "text": [
            "Name       Branch     Year      \n",
            "Gajanand   CSE        3rd       \n",
            "Prince     CSE        3rd       \n"
          ],
          "name": "stdout"
        }
      ]
    },
    {
      "cell_type": "code",
      "metadata": {
        "id": "__eBiXuD8M9_"
      },
      "source": [
        "# Date Time\n",
        "from datetime import datetime"
      ],
      "execution_count": 30,
      "outputs": []
    },
    {
      "cell_type": "code",
      "metadata": {
        "id": "fPSImvRD840y"
      },
      "source": [
        "today = datetime(year=2020,month=11,day=2)"
      ],
      "execution_count": 32,
      "outputs": []
    },
    {
      "cell_type": "code",
      "metadata": {
        "id": "-Zj9_sJ39IYE",
        "outputId": "cf96a016-25be-45b5-c73b-92662b1271bd",
        "colab": {
          "base_uri": "https://localhost:8080/"
        }
      },
      "source": [
        "print(today)"
      ],
      "execution_count": 33,
      "outputs": [
        {
          "output_type": "stream",
          "text": [
            "2020-11-02 00:00:00\n"
          ],
          "name": "stdout"
        }
      ]
    },
    {
      "cell_type": "code",
      "metadata": {
        "id": "Iwt9jU6d9Pmg",
        "outputId": "18d671ee-2ee7-4fe1-a38c-fce6d586bd48",
        "colab": {
          "base_uri": "https://localhost:8080/"
        }
      },
      "source": [
        "print(f\"{today: %B}\")\n",
        "#here %B will give the month "
      ],
      "execution_count": 37,
      "outputs": [
        {
          "output_type": "stream",
          "text": [
            " November\n"
          ],
          "name": "stdout"
        }
      ]
    },
    {
      "cell_type": "code",
      "metadata": {
        "id": "d3-IoIZJ-UxE",
        "outputId": "22e91151-a324-4428-eaec-8bf6730fab78",
        "colab": {
          "base_uri": "https://localhost:8080/"
        }
      },
      "source": [
        "print(f\"{today: %D}\")"
      ],
      "execution_count": 39,
      "outputs": [
        {
          "output_type": "stream",
          "text": [
            " 11/02/20\n"
          ],
          "name": "stdout"
        }
      ]
    },
    {
      "cell_type": "code",
      "metadata": {
        "id": "5QpGEYm0-kyj",
        "outputId": "643ee2ad-784d-4e56-e5f8-cdbcacd7f1d7",
        "colab": {
          "base_uri": "https://localhost:8080/"
        }
      },
      "source": [
        "print(f\"{today: %B %d %Y}\")\n",
        "\n",
        "# %B = MONTH\n",
        "# %d = DAY\n",
        "# %Y = YEAR\n"
      ],
      "execution_count": 47,
      "outputs": [
        {
          "output_type": "stream",
          "text": [
            " November 02 2020\n"
          ],
          "name": "stdout"
        }
      ]
    },
    {
      "cell_type": "markdown",
      "metadata": {
        "id": "7t5zG6J5_3_U"
      },
      "source": [
        "LEARN MORE PYTHON BASICS.."
      ]
    },
    {
      "cell_type": "markdown",
      "metadata": {
        "id": "Nq_GD3D__w4M"
      },
      "source": [
        "**COMPLETE**\n"
      ]
    }
  ]
}